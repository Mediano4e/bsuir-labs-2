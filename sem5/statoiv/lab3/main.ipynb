{
 "cells": [
  {
   "cell_type": "code",
   "execution_count": 45,
   "metadata": {},
   "outputs": [],
   "source": [
    "import numpy as np\n",
    "import pandas as pd\n",
    "import matplotlib.pyplot as plt\n",
    "import seaborn as sns\n",
    "from sklearn.cluster import KMeans"
   ]
  },
  {
   "cell_type": "code",
   "execution_count": 46,
   "metadata": {},
   "outputs": [],
   "source": [
    "PATH = \"girls_msk_data.csv\"\n",
    "dataset = pd.read_csv(PATH)"
   ]
  },
  {
   "cell_type": "code",
   "execution_count": 47,
   "metadata": {},
   "outputs": [
    {
     "data": {
      "text/html": [
       "<div>\n",
       "<style scoped>\n",
       "    .dataframe tbody tr th:only-of-type {\n",
       "        vertical-align: middle;\n",
       "    }\n",
       "\n",
       "    .dataframe tbody tr th {\n",
       "        vertical-align: top;\n",
       "    }\n",
       "\n",
       "    .dataframe thead th {\n",
       "        text-align: right;\n",
       "    }\n",
       "</style>\n",
       "<table border=\"1\" class=\"dataframe\">\n",
       "  <thead>\n",
       "    <tr style=\"text-align: right;\">\n",
       "      <th></th>\n",
       "      <th>age</th>\n",
       "      <th>name</th>\n",
       "      <th>breasts_size</th>\n",
       "      <th>weight</th>\n",
       "      <th>height</th>\n",
       "      <th>sex_tags</th>\n",
       "      <th>district_of_work</th>\n",
       "      <th>price_per_hour</th>\n",
       "      <th>price_per_2h</th>\n",
       "      <th>price_per_night</th>\n",
       "    </tr>\n",
       "  </thead>\n",
       "  <tbody>\n",
       "    <tr>\n",
       "      <th>0</th>\n",
       "      <td>21</td>\n",
       "      <td>Дарья</td>\n",
       "      <td>3</td>\n",
       "      <td>55</td>\n",
       "      <td>180</td>\n",
       "      <td>['Индивидуалка', 'МБР', 'Эскорт', 'Целуюсь', '...</td>\n",
       "      <td>['Москва', 'Хорошёвский']</td>\n",
       "      <td>15000.0</td>\n",
       "      <td>30000.0</td>\n",
       "      <td>75000.0</td>\n",
       "    </tr>\n",
       "    <tr>\n",
       "      <th>1</th>\n",
       "      <td>19</td>\n",
       "      <td>Эмма</td>\n",
       "      <td>2</td>\n",
       "      <td>63</td>\n",
       "      <td>168</td>\n",
       "      <td>['Диспетчер', 'МБР', 'Эскорт', 'Целуюсь', 'Апа...</td>\n",
       "      <td>['Москва', 'Отрадное']</td>\n",
       "      <td>11000.0</td>\n",
       "      <td>22000.0</td>\n",
       "      <td>65000.0</td>\n",
       "    </tr>\n",
       "    <tr>\n",
       "      <th>2</th>\n",
       "      <td>23</td>\n",
       "      <td>Ника</td>\n",
       "      <td>3</td>\n",
       "      <td>75</td>\n",
       "      <td>185</td>\n",
       "      <td>['Индивидуалка', 'МБР', 'Целуюсь', 'GFE', 'Выс...</td>\n",
       "      <td>['Москва', 'Тёплый Стан']</td>\n",
       "      <td>8000.0</td>\n",
       "      <td>16000.0</td>\n",
       "      <td>45000.0</td>\n",
       "    </tr>\n",
       "    <tr>\n",
       "      <th>3</th>\n",
       "      <td>18</td>\n",
       "      <td>Милана</td>\n",
       "      <td>1</td>\n",
       "      <td>45</td>\n",
       "      <td>163</td>\n",
       "      <td>['Индивидуалка', 'МБР', 'Целуюсь', 'Апартамент...</td>\n",
       "      <td>['Москва', 'Савёловский']</td>\n",
       "      <td>10000.0</td>\n",
       "      <td>20000.0</td>\n",
       "      <td>60000.0</td>\n",
       "    </tr>\n",
       "    <tr>\n",
       "      <th>4</th>\n",
       "      <td>21</td>\n",
       "      <td>Alina vanilla</td>\n",
       "      <td>3</td>\n",
       "      <td>52</td>\n",
       "      <td>170</td>\n",
       "      <td>['Индивидуалка', 'Анальный секс', 'МБР', 'Эско...</td>\n",
       "      <td>['Москва', 'Пресненский']</td>\n",
       "      <td>20000.0</td>\n",
       "      <td>40000.0</td>\n",
       "      <td>120000.0</td>\n",
       "    </tr>\n",
       "  </tbody>\n",
       "</table>\n",
       "</div>"
      ],
      "text/plain": [
       "   age           name  breasts_size  weight  height  \\\n",
       "0   21          Дарья             3      55     180   \n",
       "1   19           Эмма             2      63     168   \n",
       "2   23           Ника             3      75     185   \n",
       "3   18         Милана             1      45     163   \n",
       "4   21  Alina vanilla             3      52     170   \n",
       "\n",
       "                                            sex_tags  \\\n",
       "0  ['Индивидуалка', 'МБР', 'Эскорт', 'Целуюсь', '...   \n",
       "1  ['Диспетчер', 'МБР', 'Эскорт', 'Целуюсь', 'Апа...   \n",
       "2  ['Индивидуалка', 'МБР', 'Целуюсь', 'GFE', 'Выс...   \n",
       "3  ['Индивидуалка', 'МБР', 'Целуюсь', 'Апартамент...   \n",
       "4  ['Индивидуалка', 'Анальный секс', 'МБР', 'Эско...   \n",
       "\n",
       "            district_of_work  price_per_hour  price_per_2h  price_per_night  \n",
       "0  ['Москва', 'Хорошёвский']         15000.0       30000.0          75000.0  \n",
       "1     ['Москва', 'Отрадное']         11000.0       22000.0          65000.0  \n",
       "2  ['Москва', 'Тёплый Стан']          8000.0       16000.0          45000.0  \n",
       "3  ['Москва', 'Савёловский']         10000.0       20000.0          60000.0  \n",
       "4  ['Москва', 'Пресненский']         20000.0       40000.0         120000.0  "
      ]
     },
     "execution_count": 47,
     "metadata": {},
     "output_type": "execute_result"
    }
   ],
   "source": [
    "dataset.head()"
   ]
  },
  {
   "cell_type": "code",
   "execution_count": 48,
   "metadata": {},
   "outputs": [],
   "source": [
    "dataset = dataset[[\"age\", \"breasts_size\", \"weight\", \"height\", \"price_per_hour\"]]"
   ]
  },
  {
   "cell_type": "code",
   "execution_count": 49,
   "metadata": {},
   "outputs": [
    {
     "data": {
      "text/html": [
       "<div>\n",
       "<style scoped>\n",
       "    .dataframe tbody tr th:only-of-type {\n",
       "        vertical-align: middle;\n",
       "    }\n",
       "\n",
       "    .dataframe tbody tr th {\n",
       "        vertical-align: top;\n",
       "    }\n",
       "\n",
       "    .dataframe thead th {\n",
       "        text-align: right;\n",
       "    }\n",
       "</style>\n",
       "<table border=\"1\" class=\"dataframe\">\n",
       "  <thead>\n",
       "    <tr style=\"text-align: right;\">\n",
       "      <th></th>\n",
       "      <th>age</th>\n",
       "      <th>breasts_size</th>\n",
       "      <th>weight</th>\n",
       "      <th>height</th>\n",
       "      <th>price_per_hour</th>\n",
       "    </tr>\n",
       "  </thead>\n",
       "  <tbody>\n",
       "    <tr>\n",
       "      <th>0</th>\n",
       "      <td>21</td>\n",
       "      <td>3</td>\n",
       "      <td>55</td>\n",
       "      <td>180</td>\n",
       "      <td>15000.0</td>\n",
       "    </tr>\n",
       "    <tr>\n",
       "      <th>1</th>\n",
       "      <td>19</td>\n",
       "      <td>2</td>\n",
       "      <td>63</td>\n",
       "      <td>168</td>\n",
       "      <td>11000.0</td>\n",
       "    </tr>\n",
       "    <tr>\n",
       "      <th>2</th>\n",
       "      <td>23</td>\n",
       "      <td>3</td>\n",
       "      <td>75</td>\n",
       "      <td>185</td>\n",
       "      <td>8000.0</td>\n",
       "    </tr>\n",
       "    <tr>\n",
       "      <th>3</th>\n",
       "      <td>18</td>\n",
       "      <td>1</td>\n",
       "      <td>45</td>\n",
       "      <td>163</td>\n",
       "      <td>10000.0</td>\n",
       "    </tr>\n",
       "    <tr>\n",
       "      <th>4</th>\n",
       "      <td>21</td>\n",
       "      <td>3</td>\n",
       "      <td>52</td>\n",
       "      <td>170</td>\n",
       "      <td>20000.0</td>\n",
       "    </tr>\n",
       "  </tbody>\n",
       "</table>\n",
       "</div>"
      ],
      "text/plain": [
       "   age  breasts_size  weight  height  price_per_hour\n",
       "0   21             3      55     180         15000.0\n",
       "1   19             2      63     168         11000.0\n",
       "2   23             3      75     185          8000.0\n",
       "3   18             1      45     163         10000.0\n",
       "4   21             3      52     170         20000.0"
      ]
     },
     "execution_count": 49,
     "metadata": {},
     "output_type": "execute_result"
    }
   ],
   "source": [
    "dataset.head()"
   ]
  },
  {
   "cell_type": "code",
   "execution_count": 50,
   "metadata": {},
   "outputs": [
    {
     "name": "stdout",
     "output_type": "stream",
     "text": [
      "<class 'pandas.core.frame.DataFrame'>\n",
      "RangeIndex: 1262 entries, 0 to 1261\n",
      "Data columns (total 5 columns):\n",
      " #   Column          Non-Null Count  Dtype  \n",
      "---  ------          --------------  -----  \n",
      " 0   age             1262 non-null   int64  \n",
      " 1   breasts_size    1262 non-null   int64  \n",
      " 2   weight          1262 non-null   int64  \n",
      " 3   height          1262 non-null   int64  \n",
      " 4   price_per_hour  1262 non-null   float64\n",
      "dtypes: float64(1), int64(4)\n",
      "memory usage: 49.4 KB\n"
     ]
    }
   ],
   "source": [
    "dataset.info()"
   ]
  },
  {
   "cell_type": "code",
   "execution_count": 51,
   "metadata": {},
   "outputs": [
    {
     "name": "stdout",
     "output_type": "stream",
     "text": [
      "<class 'pandas.core.frame.DataFrame'>\n",
      "Index: 1206 entries, 0 to 1261\n",
      "Data columns (total 5 columns):\n",
      " #   Column          Non-Null Count  Dtype  \n",
      "---  ------          --------------  -----  \n",
      " 0   age             1206 non-null   int64  \n",
      " 1   breasts_size    1206 non-null   int64  \n",
      " 2   weight          1206 non-null   int64  \n",
      " 3   height          1206 non-null   int64  \n",
      " 4   price_per_hour  1206 non-null   float64\n",
      "dtypes: float64(1), int64(4)\n",
      "memory usage: 56.5 KB\n"
     ]
    }
   ],
   "source": [
    "dataset = dataset[dataset['breasts_size'] <= 4]\n",
    "dataset.info()"
   ]
  },
  {
   "cell_type": "code",
   "execution_count": 54,
   "metadata": {},
   "outputs": [
    {
     "data": {
      "text/plain": [
       "Text(0, 0.5, 'Внутри-кластерная сумма расстояний')"
      ]
     },
     "execution_count": 54,
     "metadata": {},
     "output_type": "execute_result"
    },
    {
     "data": {
      "image/png": "[encoded data removed]",
      "text/plain": [
       "<Figure size 640x480 with 1 Axes>"
      ]
     },
     "metadata": {},
     "output_type": "display_data"
    }
   ],
   "source": [
    "inertia = []\n",
    "for i in range(1, 11):\n",
    "    k_means = KMeans(n_clusters=i, init= 'k-means++')\n",
    "    k_means.fit(dataset.drop(\"breasts_size\", axis=1))\n",
    "    inertia.append(k_means.inertia_)\n",
    "\n",
    "sns.set_style('darkgrid')\n",
    "\n",
    "sns.scatterplot(\n",
    "    x=[x for x in range(1, 11)],\n",
    "    y=inertia,\n",
    ")\n",
    "\n",
    "plt.title('График зависимости')\n",
    "plt.xlabel('Количество кластеров')\n",
    "plt.ylabel('Внутри-кластерная сумма расстояний')"
   ]
  },
  {
   "cell_type": "code",
   "execution_count": 122,
   "metadata": {},
   "outputs": [
    {
     "data": {
      "text/html": [
       "<div>\n",
       "<style scoped>\n",
       "    .dataframe tbody tr th:only-of-type {\n",
       "        vertical-align: middle;\n",
       "    }\n",
       "\n",
       "    .dataframe tbody tr th {\n",
       "        vertical-align: top;\n",
       "    }\n",
       "\n",
       "    .dataframe thead th {\n",
       "        text-align: right;\n",
       "    }\n",
       "</style>\n",
       "<table border=\"1\" class=\"dataframe\">\n",
       "  <thead>\n",
       "    <tr style=\"text-align: right;\">\n",
       "      <th></th>\n",
       "      <th>age</th>\n",
       "      <th>weight</th>\n",
       "      <th>height</th>\n",
       "      <th>price_per_hour</th>\n",
       "      <th>Amount</th>\n",
       "    </tr>\n",
       "  </thead>\n",
       "  <tbody>\n",
       "    <tr>\n",
       "      <th>0</th>\n",
       "      <td>24.292011</td>\n",
       "      <td>53.239669</td>\n",
       "      <td>167.688705</td>\n",
       "      <td>24181.818182</td>\n",
       "      <td>363</td>\n",
       "    </tr>\n",
       "    <tr>\n",
       "      <th>1</th>\n",
       "      <td>24.548961</td>\n",
       "      <td>54.213650</td>\n",
       "      <td>167.043027</td>\n",
       "      <td>12260.385757</td>\n",
       "      <td>674</td>\n",
       "    </tr>\n",
       "    <tr>\n",
       "      <th>2</th>\n",
       "      <td>23.743243</td>\n",
       "      <td>52.945946</td>\n",
       "      <td>169.371622</td>\n",
       "      <td>41554.054054</td>\n",
       "      <td>148</td>\n",
       "    </tr>\n",
       "    <tr>\n",
       "      <th>3</th>\n",
       "      <td>20.857143</td>\n",
       "      <td>49.428571</td>\n",
       "      <td>168.285714</td>\n",
       "      <td>77142.857143</td>\n",
       "      <td>21</td>\n",
       "    </tr>\n",
       "  </tbody>\n",
       "</table>\n",
       "</div>"
      ],
      "text/plain": [
       "         age     weight      height  price_per_hour  Amount\n",
       "0  24.292011  53.239669  167.688705    24181.818182     363\n",
       "1  24.548961  54.213650  167.043027    12260.385757     674\n",
       "2  23.743243  52.945946  169.371622    41554.054054     148\n",
       "3  20.857143  49.428571  168.285714    77142.857143      21"
      ]
     },
     "execution_count": 122,
     "metadata": {},
     "output_type": "execute_result"
    }
   ],
   "source": [
    "CLUSTERS = 4\n",
    "\n",
    "model = KMeans(n_clusters=CLUSTERS, random_state=0)\n",
    "model.fit(dataset.drop(\"breasts_size\", axis=1))\n",
    "\n",
    "clusters = pd.DataFrame(\n",
    "    columns=dataset.columns.drop(\"breasts_size\"),\n",
    "    data=model.cluster_centers_\n",
    ")\n",
    "clusters[\"Amount\"] = np.unique(\n",
    "    model.labels_,\n",
    "    return_counts=True\n",
    ")[1]\n",
    "\n",
    "clusters"
   ]
  }
 ],
 "metadata": {
  "kernelspec": {
   "display_name": "cosmic_env",
   "language": "python",
   "name": "python3"
  },
  "language_info": {
   "codemirror_mode": {
    "name": "ipython",
    "version": 3
   },
   "file_extension": ".py",
   "mimetype": "text/x-python",
   "name": "python",
   "nbconvert_exporter": "python",
   "pygments_lexer": "ipython3",
   "version": "3.12.7"
  }
 },
 "nbformat": 4,
 "nbformat_minor": 2
}
