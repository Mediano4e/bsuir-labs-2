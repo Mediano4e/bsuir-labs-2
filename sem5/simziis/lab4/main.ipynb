{
 "cells": [
  {
   "cell_type": "code",
   "execution_count": 24,
   "metadata": {},
   "outputs": [],
   "source": [
    "def gcd(a, b):\n",
    "    while b:\n",
    "        a, b = b, a % b\n",
    "    return a"
   ]
  },
  {
   "cell_type": "code",
   "execution_count": 25,
   "metadata": {},
   "outputs": [],
   "source": [
    "\n",
    "def find_primitive_root(p):\n",
    "    if p <= 1:\n",
    "        return None\n",
    "    \n",
    "    phi = p - 1\n",
    "    \n",
    "    def prime_factors(n):\n",
    "        factors = set()\n",
    "        d = 2\n",
    "        while d * d <= n:\n",
    "            if n % d == 0:\n",
    "                factors.add(d)\n",
    "                while n % d == 0:\n",
    "                    n //= d\n",
    "            d += 1\n",
    "        if n > 1:\n",
    "            factors.add(n)\n",
    "        return factors\n",
    "\n",
    "    factors = prime_factors(phi)\n",
    "\n",
    "    for g in range(2, p):\n",
    "        is_primitive = True\n",
    "        for factor in factors:\n",
    "            if pow(g, phi // factor, p) == 1:\n",
    "                is_primitive = False\n",
    "                break\n",
    "        if is_primitive:\n",
    "            return g\n",
    "\n",
    "    return None"
   ]
  },
  {
   "cell_type": "code",
   "execution_count": 26,
   "metadata": {},
   "outputs": [
    {
     "name": "stdout",
     "output_type": "stream",
     "text": [
      "Примитивный корень по модулю 7489 = 7\n"
     ]
    }
   ],
   "source": [
    "p = 7489\n",
    "\n",
    "primitive_root = find_primitive_root(p)\n",
    "print(f\"Примитивный корень по модулю {p} = {primitive_root}\")"
   ]
  },
  {
   "cell_type": "code",
   "execution_count": 27,
   "metadata": {},
   "outputs": [
    {
     "name": "stdout",
     "output_type": "stream",
     "text": [
      "Alice's num = 1399\n",
      "Bob's num = 3508\n",
      "Alice's common secret = 7095\n",
      "Bob's common secret = 7095\n"
     ]
    }
   ],
   "source": [
    "alice_num = int(input(\"Enter Alice's number\\n\"))\n",
    "bob_num = int(input(\"Enter Bob's number\\n\"))\n",
    "print(\"Alice's num =\", A := (primitive_root ** alice_num) % p)\n",
    "print(\"Bob's num =\", B := (primitive_root ** bob_num) % p)\n",
    "print(\"Alice's common secret =\", (B ** alice_num) % p)\n",
    "print(\"Bob's common secret =\", (A ** bob_num) % p)"
   ]
  }
 ],
 "metadata": {
  "kernelspec": {
   "display_name": "new_env",
   "language": "python",
   "name": "python3"
  },
  "language_info": {
   "codemirror_mode": {
    "name": "ipython",
    "version": 3
   },
   "file_extension": ".py",
   "mimetype": "text/x-python",
   "name": "python",
   "nbconvert_exporter": "python",
   "pygments_lexer": "ipython3",
   "version": "3.9.19"
  }
 },
 "nbformat": 4,
 "nbformat_minor": 2
}
