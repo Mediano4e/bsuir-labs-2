{
 "cells": [
  {
   "cell_type": "markdown",
   "metadata": {},
   "source": [
    "# Вариант - 9(1). Алфавит английский"
   ]
  },
  {
   "cell_type": "markdown",
   "metadata": {},
   "source": [
    "### 0. Объявление выбранного алфавита для сообщений"
   ]
  },
  {
   "cell_type": "code",
   "execution_count": 1,
   "metadata": {},
   "outputs": [],
   "source": [
    "alphabet = \"abcdefghijklmnopqrstuvwxyz\""
   ]
  },
  {
   "cell_type": "markdown",
   "metadata": {},
   "source": [
    "### 1. Шифр Цезаря"
   ]
  },
  {
   "cell_type": "code",
   "execution_count": 2,
   "metadata": {},
   "outputs": [],
   "source": [
    "def encrypt(text: str = 'test string', shift: int = 3) -> str:\n",
    "    global alphabet\n",
    "    encrypted_text = \"\"\n",
    "    alphabet_length = len(alphabet)\n",
    "    \n",
    "    for char in text:\n",
    "        if char in alphabet:\n",
    "            index = alphabet.index(char)\n",
    "            new_index = (index + shift) % alphabet_length\n",
    "            encrypted_text += alphabet[new_index]\n",
    "        else:\n",
    "            encrypted_text += char\n",
    "    \n",
    "    return encrypted_text\n",
    "\n",
    "def decrypt(text: str, shift: int = 3) -> str:\n",
    "    return encrypt(text, -shift)"
   ]
  },
  {
   "cell_type": "code",
   "execution_count": 3,
   "metadata": {},
   "outputs": [],
   "source": [
    "string = \"i'm not your enemy\""
   ]
  },
  {
   "cell_type": "code",
   "execution_count": 4,
   "metadata": {},
   "outputs": [
    {
     "name": "stdout",
     "output_type": "stream",
     "text": [
      "l'p qrw brxu hqhpb\n",
      "i'm not your enemy\n"
     ]
    }
   ],
   "source": [
    "en = encrypt(string)\n",
    "print(en)\n",
    "\n",
    "de = decrypt(en)\n",
    "print(de)"
   ]
  },
  {
   "cell_type": "markdown",
   "metadata": {},
   "source": [
    "### 2. Атака полным перебором"
   ]
  },
  {
   "cell_type": "code",
   "execution_count": 5,
   "metadata": {},
   "outputs": [],
   "source": [
    "def brute_force(encrypted_str: str, string0: str) -> int:\n",
    "    global alphabet\n",
    "    for i in range(len(alphabet)):\n",
    "        if decrypt(encrypted_str, i) == string0:\n",
    "            return i\n",
    "    raise ValueError(\"It's not caesar encrypt or there's no connection between this strings\")"
   ]
  },
  {
   "cell_type": "code",
   "execution_count": 6,
   "metadata": {},
   "outputs": [
    {
     "name": "stdout",
     "output_type": "stream",
     "text": [
      "3\n"
     ]
    }
   ],
   "source": [
    "shift = brute_force(en, string)\n",
    "print(shift)"
   ]
  },
  {
   "cell_type": "markdown",
   "metadata": {},
   "source": [
    "### 3. Оценка криптографической стойкости"
   ]
  },
  {
   "cell_type": "markdown",
   "metadata": {},
   "source": [
    "Шифр Цезаря очень уязвим к атакам полным перебором, так как количество возможных сдвигов невелико — число символов в выбранном алфавите. Таким образом, его стойкость крайне низкая."
   ]
  },
  {
   "cell_type": "markdown",
   "metadata": {},
   "source": [
    "### 4. Варианты усложнения шифра"
   ]
  },
  {
   "cell_type": "markdown",
   "metadata": {},
   "source": [
    "Введение усложнения с использованием дополнительного правила для кодирования информации (сдвига на число равное индексу символа в исходной строки)"
   ]
  },
  {
   "cell_type": "code",
   "execution_count": 7,
   "metadata": {},
   "outputs": [],
   "source": [
    "def encrypt_dynamic_shift(text: str = 'test string', shift: int = 3) -> str:\n",
    "    encrypted_text = \"\"\n",
    "    alphabet_length = len(alphabet)\n",
    "    \n",
    "    for i, char in enumerate(text):\n",
    "        if char in alphabet:\n",
    "            index = alphabet.index(char)\n",
    "            dynamic_shift = (shift + i) % alphabet_length\n",
    "            new_index = (index + dynamic_shift) % alphabet_length\n",
    "            encrypted_text += alphabet[new_index]\n",
    "        else:\n",
    "            encrypted_text += char\n",
    "    \n",
    "    return encrypted_text\n",
    "\n",
    "def decrypt_dynamic_shift(text: str, shift: int = 3) -> str:\n",
    "    decrypted_text = \"\"\n",
    "    alphabet_length = len(alphabet)\n",
    "    \n",
    "    for i, char in enumerate(text):\n",
    "        if char in alphabet:\n",
    "            index = alphabet.index(char)\n",
    "            dynamic_shift = (shift + i) % alphabet_length\n",
    "            new_index = (index - dynamic_shift) % alphabet_length\n",
    "            decrypted_text += alphabet[new_index]\n",
    "        else:\n",
    "            decrypted_text += char\n",
    "    \n",
    "    return decrypted_text"
   ]
  },
  {
   "cell_type": "code",
   "execution_count": 8,
   "metadata": {},
   "outputs": [
    {
     "name": "stdout",
     "output_type": "stream",
     "text": [
      "l'r uwc jahf uewfs\n",
      "i'm not your enemy\n"
     ]
    }
   ],
   "source": [
    "en = encrypt_dynamic_shift(string)\n",
    "print(en)\n",
    "\n",
    "de = decrypt_dynamic_shift(en)\n",
    "print(de)"
   ]
  },
  {
   "cell_type": "markdown",
   "metadata": {},
   "source": [
    "Введение усложнения с помощью перетановок"
   ]
  },
  {
   "cell_type": "code",
   "execution_count": 9,
   "metadata": {},
   "outputs": [],
   "source": [
    "def encrypt_with_permutation(text: str = 'test string', shift: int = 3) -> str:\n",
    "    encrypted_text = \"\"\n",
    "    alphabet_length = len(alphabet)\n",
    "    \n",
    "    for char in text:\n",
    "        if char in alphabet:\n",
    "            index = alphabet.index(char)\n",
    "            new_index = (index + shift) % alphabet_length\n",
    "            encrypted_text += alphabet[new_index]\n",
    "        else:\n",
    "            encrypted_text += char\n",
    "    \n",
    "    return ''.join(encrypted_text[i:i+2][::-1] for i in range(0, len(encrypted_text), 2))\n",
    "\n",
    "def decrypt_with_permutation(text: str, shift: int = 3) -> str:\n",
    "    text = ''.join(text[i:i+2][::-1] for i in range(0, len(text), 2))\n",
    "    \n",
    "    decrypted_text = \"\"\n",
    "    alphabet_length = len(alphabet)\n",
    "    \n",
    "    for char in text:\n",
    "        if char in alphabet:\n",
    "            index = alphabet.index(char)\n",
    "            new_index = (index - shift) % alphabet_length\n",
    "            decrypted_text += alphabet[new_index]\n",
    "        else:\n",
    "            decrypted_text += char\n",
    "    \n",
    "    return decrypted_text"
   ]
  },
  {
   "cell_type": "code",
   "execution_count": 10,
   "metadata": {},
   "outputs": [
    {
     "name": "stdout",
     "output_type": "stream",
     "text": [
      "'l prq wrbuxh hqbp\n",
      "i'm not your enemy\n"
     ]
    }
   ],
   "source": [
    "en = encrypt_with_permutation(string)\n",
    "print(en)\n",
    "\n",
    "de = decrypt_with_permutation(en)\n",
    "print(de)"
   ]
  }
 ],
 "metadata": {
  "kernelspec": {
   "display_name": "new_env",
   "language": "python",
   "name": "python3"
  },
  "language_info": {
   "codemirror_mode": {
    "name": "ipython",
    "version": 3
   },
   "file_extension": ".py",
   "mimetype": "text/x-python",
   "name": "python",
   "nbconvert_exporter": "python",
   "pygments_lexer": "ipython3",
   "version": "3.9.19"
  }
 },
 "nbformat": 4,
 "nbformat_minor": 2
}
